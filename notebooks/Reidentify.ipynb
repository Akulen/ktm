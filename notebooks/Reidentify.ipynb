{
 "cells": [
  {
   "cell_type": "code",
   "execution_count": null,
   "id": "4620e71e",
   "metadata": {},
   "outputs": [],
   "source": [
    "import pandas as pd\n",
    "\n",
    "df = pd.read_csv('/var/music/assistments2009.csv')"
   ]
  },
  {
   "cell_type": "code",
   "execution_count": null,
   "id": "7416cbb2",
   "metadata": {},
   "outputs": [],
   "source": [
    "df.head()"
   ]
  },
  {
   "cell_type": "code",
   "execution_count": null,
   "id": "7b205711",
   "metadata": {},
   "outputs": [],
   "source": [
    "has_replied = Counter(df['user_id'])"
   ]
  },
  {
   "cell_type": "code",
   "execution_count": null,
   "id": "74b7ac1c",
   "metadata": {},
   "outputs": [],
   "source": [
    "from collections import Counter\n",
    "\n",
    "Counter(df.groupby([\"item\", \"skill\"]).first().reset_index()['skill']).most_common()"
   ]
  },
  {
   "cell_type": "code",
   "execution_count": null,
   "id": "83eb46af",
   "metadata": {},
   "outputs": [],
   "source": [
    "import numpy as np\n",
    "\n",
    "coef = np.load('../data/assistments09/coef0.npy')"
   ]
  },
  {
   "cell_type": "code",
   "execution_count": null,
   "id": "c79c3e23",
   "metadata": {},
   "outputs": [],
   "source": [
    "coef.shape"
   ]
  },
  {
   "cell_type": "code",
   "execution_count": null,
   "id": "8efbb2d8",
   "metadata": {},
   "outputs": [],
   "source": [
    "coef[0, :4163].mean()"
   ]
  },
  {
   "cell_type": "code",
   "execution_count": null,
   "id": "327a1161",
   "metadata": {},
   "outputs": [],
   "source": [
    "import matplotlib.pyplot as plt\n",
    "\n",
    "plt.hist(coef[0, :4163], bins=50)"
   ]
  },
  {
   "cell_type": "code",
   "execution_count": null,
   "id": "02fe035f",
   "metadata": {},
   "outputs": [],
   "source": [
    "plt.hist(coef[0, 4163:], bins=50)"
   ]
  },
  {
   "cell_type": "code",
   "execution_count": null,
   "id": "dfcedcca",
   "metadata": {},
   "outputs": [],
   "source": [
    "df = pd.read_csv('/var/music/assistments2012.csv', sep='\\t')"
   ]
  },
  {
   "cell_type": "code",
   "execution_count": null,
   "id": "b29063f4",
   "metadata": {},
   "outputs": [],
   "source": [
    "df.head()"
   ]
  },
  {
   "cell_type": "code",
   "execution_count": null,
   "id": "4b65f487",
   "metadata": {},
   "outputs": [],
   "source": [
    "success_rates = df.groupby('user_id')['correct'].mean()"
   ]
  },
  {
   "cell_type": "code",
   "execution_count": null,
   "id": "e206bce7",
   "metadata": {},
   "outputs": [],
   "source": [
    "def compute_delays(user_id):\n",
    "    times = df.query(\"user_id == @user_id\")['timestamp'].to_numpy()\n",
    "    times.sort()\n",
    "    #print(times)\n",
    "    #print(times[1:])\n",
    "    #print(times[:-1])\n",
    "    #print(times[1:] - times[:-1])\n",
    "    plt.hist(np.log(times[1:] - times[:-1]))\n",
    "\n",
    "def compute_median_delay(timestamps):\n",
    "    # times = df.query(\"user_id == @user_id\")['timestamp'].to_numpy()\n",
    "    times = np.array(timestamps)\n",
    "    times.sort()\n",
    "    return np.median([value for value in times[1:] - times[:-1] if value < 10000])"
   ]
  },
  {
   "cell_type": "code",
   "execution_count": null,
   "id": "c5f77751",
   "metadata": {},
   "outputs": [],
   "source": [
    "median_delays = df.groupby('user_id').agg({'timestamp': compute_median_delay}).rename(columns={'timestamp': 'median_delay'})"
   ]
  },
  {
   "cell_type": "code",
   "execution_count": null,
   "id": "25ef5dd8",
   "metadata": {},
   "outputs": [],
   "source": [
    "df_win = success_rates.reset_index().join(median_delays)"
   ]
  },
  {
   "cell_type": "code",
   "execution_count": null,
   "id": "5de9d6d8",
   "metadata": {},
   "outputs": [],
   "source": [
    "df_win['nb_replies'] = df_win['user_id'].map(has_replied)"
   ]
  },
  {
   "cell_type": "code",
   "execution_count": null,
   "id": "5e811e55",
   "metadata": {},
   "outputs": [],
   "source": [
    "df_win['log_median_delay'] = np.log(df_win['median_delay'])"
   ]
  },
  {
   "cell_type": "code",
   "execution_count": null,
   "id": "2cc2eff0",
   "metadata": {},
   "outputs": [],
   "source": [
    "df_win['median_delay'].describe()"
   ]
  },
  {
   "cell_type": "code",
   "execution_count": null,
   "id": "d6bd593b",
   "metadata": {},
   "outputs": [],
   "source": [
    "df_win.dropna().sort_values('median_delay').tail(10)"
   ]
  },
  {
   "cell_type": "code",
   "execution_count": null,
   "id": "b44eb859",
   "metadata": {},
   "outputs": [],
   "source": [
    "df_win['correct'].hist()"
   ]
  },
  {
   "cell_type": "code",
   "execution_count": null,
   "id": "5c676da5",
   "metadata": {},
   "outputs": [],
   "source": [
    "df_win.plot.scatter(x='correct', y='median_delay')"
   ]
  },
  {
   "cell_type": "code",
   "execution_count": null,
   "id": "d9fd7f54",
   "metadata": {},
   "outputs": [],
   "source": [
    "df_win.dropna().query('median_delay > 1e3')['nb_replies'].hist(bins=11)"
   ]
  },
  {
   "cell_type": "code",
   "execution_count": null,
   "id": "6961a903",
   "metadata": {},
   "outputs": [],
   "source": [
    "df_win.query('nb_replies > 10').plot.scatter(x='correct', y='log_median_delay')"
   ]
  },
  {
   "cell_type": "code",
   "execution_count": null,
   "id": "84302db6",
   "metadata": {},
   "outputs": [],
   "source": [
    "df_for_disp = df_win.query('nb_replies > 10').dropna()"
   ]
  },
  {
   "cell_type": "code",
   "execution_count": null,
   "id": "c186434a",
   "metadata": {},
   "outputs": [],
   "source": [
    "plt.hist2d(df_for_disp['correct'], y=df_for_disp['log_median_delay'], bins=100)"
   ]
  },
  {
   "cell_type": "code",
   "execution_count": null,
   "id": "d53e8137",
   "metadata": {},
   "outputs": [],
   "source": [
    "%%time\n",
    "median_delay_of = dict([(user_id, compute_median_delay(user_id)) for user_id in df['user_id'].unique()])\n",
    "median_delay_of"
   ]
  },
  {
   "cell_type": "code",
   "execution_count": null,
   "id": "4c381b22",
   "metadata": {},
   "outputs": [],
   "source": []
  },
  {
   "cell_type": "code",
   "execution_count": null,
   "id": "932d90bd",
   "metadata": {},
   "outputs": [],
   "source": [
    "compute_delays(4355)"
   ]
  },
  {
   "cell_type": "code",
   "execution_count": null,
   "id": "6b13d5ed",
   "metadata": {},
   "outputs": [],
   "source": [
    "compute_delays(3825)"
   ]
  },
  {
   "cell_type": "code",
   "execution_count": null,
   "id": "682215cd",
   "metadata": {},
   "outputs": [],
   "source": [
    "df['user_id'].unique()"
   ]
  },
  {
   "cell_type": "code",
   "execution_count": null,
   "id": "e0fd4169",
   "metadata": {},
   "outputs": [],
   "source": [
    "compute_delays(5026)"
   ]
  },
  {
   "cell_type": "code",
   "execution_count": null,
   "id": "a84a32bd",
   "metadata": {},
   "outputs": [],
   "source": [
    "compute_delays(24748)"
   ]
  },
  {
   "cell_type": "code",
   "execution_count": null,
   "id": "289e28af",
   "metadata": {},
   "outputs": [],
   "source": []
  }
 ],
 "metadata": {
  "kernelspec": {
   "display_name": "Django Shell-Plus",
   "language": "python",
   "name": "django_extensions"
  },
  "language_info": {
   "codemirror_mode": {
    "name": "ipython",
    "version": 3
   },
   "file_extension": ".py",
   "mimetype": "text/x-python",
   "name": "python",
   "nbconvert_exporter": "python",
   "pygments_lexer": "ipython3",
   "version": "3.9.5"
  }
 },
 "nbformat": 4,
 "nbformat_minor": 5
}
